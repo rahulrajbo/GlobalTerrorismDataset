{
  "nbformat": 4,
  "nbformat_minor": 0,
  "metadata": {
    "colab": {
      "private_outputs": true,
      "provenance": [],
      "collapsed_sections": [
        "yQaldy8SH6Dl",
        "PH-0ReGfmX4f",
        "mDgbUHAGgjLW",
        "O_i_v8NEhb9l",
        "HhfV-JJviCcP",
        "Y3lxredqlCYt",
        "3RnN4peoiCZX",
        "x71ZqKXriCWQ",
        "7hBIi_osiCS2",
        "JlHwYmJAmNHm",
        "H0kj-8xxnORC",
        "nA9Y7ga8ng1Z",
        "u3PMJOP6ngxN",
        "bKJF3rekwFvQ",
        "MSa1f5Uengrz",
        "GF8Ens_Soomf",
        "0wOQAZs5pc--",
        "KSlN3yHqYklG",
        "EM7whBJCYoAo",
        "4Of9eVA-YrdM",
        "F6T5p64dYrdO",
        "y-Ehk30pYrdP",
        "bamQiAODYuh1",
        "OH-pJp9IphqM",
        "PIIx-8_IphqN",
        "BZR9WyysphqO",
        "YJ55k-q6phqO",
        "U2RJ9gkRphqQ",
        "x-EpHcCOp1ci",
        "n3dbpmDWp1ck",
        "Ag9LCva-p1cl",
        "NC_X3p0fY2L0",
        "q29F0dvdveiT",
        "JcMwzZxoAimU",
        "8G2x9gOozGDZ",
        "gCX9965dhzqZ",
        "gIfDvo9L0UH2"
      ],
      "include_colab_link": true
    },
    "kernelspec": {
      "name": "python3",
      "display_name": "Python 3"
    },
    "language_info": {
      "name": "python"
    }
  },
  "cells": [
    {
      "cell_type": "markdown",
      "metadata": {
        "id": "view-in-github",
        "colab_type": "text"
      },
      "source": [
        "<a href=\"https://colab.research.google.com/github/rahulrajbo/GlobalTerrorismDataset/blob/main/Global_Terrorism_Dataset_Analysis.ipynb\" target=\"_parent\"><img src=\"https://colab.research.google.com/assets/colab-badge.svg\" alt=\"Open In Colab\"/></a>"
      ]
    },
    {
      "cell_type": "markdown",
      "source": [
        "# **Project Name**    -    Global Terrorism Dataset Analysis\n",
        "\n"
      ],
      "metadata": {
        "id": "vncDsAP0Gaoa"
      }
    },
    {
      "cell_type": "markdown",
      "source": [
        "##### **Project Type**    - EDA\n",
        "##### **Contribution**    - Individual\n",
        "##### **Name**            - Rahul Bora"
      ],
      "metadata": {
        "id": "beRrZCGUAJYm"
      }
    },
    {
      "cell_type": "markdown",
      "source": [
        "# **Project Summary -**"
      ],
      "metadata": {
        "id": "FJNUwmbgGyua"
      }
    },
    {
      "cell_type": "markdown",
      "source": [
        "Exploratory Data Analysis (EDA) involves examining and understanding the characteristics, patterns, and relationships present in a dataset before conducting more formal statistical analyses or modeling. EDA helps in gaining insights, identifying anomalies, and formulating hypotheses about the data, which can guide subsequent analysis and decision-making.\n",
        "\n",
        "The \"Global Terrorism Dataset\" project aims to conduct an exploratory data analysis (EDA) on the open-source database containing comprehensive information on terrorist attacks worldwide from 1970 to 2017. The dataset, maintained by researchers at the National Consortium for the Study of Terrorism and Responses to Terrorism (START) at the University of Maryland, encompasses both domestic and international incidents, totaling over 180,000 attacks.\n",
        "\n",
        "The project's main objective is to gain insights into the patterns and trends of global terrorism over the decades. By analyzing various dimensions of the dataset, including attack frequency, targeted countries, attack methods, weapon use, casualties, and the evolution of terrorist organizations, the project aims to provide a detailed overview of global terrorism trends. These findings will inform counterterrorism strategies, policies, and contribute to ongoing efforts in the field.\n",
        "\n",
        "Through the project's exploratory analysis, potential trends in terrorism will be unveiled, shedding light on regions prone to attacks and understanding the factors behind their vulnerability. The project will leverage data-driven exploration to uncover complex patterns and provide valuable insights into the nature and dynamics of global terrorism.\n",
        "\n",
        "The project's approach involves a combination of data manipulation, numerical computation, and graphic visualization techniques. By employing these methods, the project aims to derive a robust comprehension of the dataset and present key findings effectively. The project's end product will be a comprehensive analysis that contributes substantially to counterterrorism efforts and serves as a foundation for further research in this field.\n",
        "\n",
        "Overall, the \"Global Terrorism Dataset\" project seeks to leverage the vast repository of terrorism-related information to generate insights, inform policies, and enhance understanding of terrorism's global landscape. Through rigorous analysis and visualization, the project aims to contribute to a safer and more secure world by addressing the complex challenges posed by terrorism."
      ],
      "metadata": {
        "id": "F6v_1wHtG2nS"
      }
    },
    {
      "cell_type": "markdown",
      "source": [
        "# **GitHub Link -**"
      ],
      "metadata": {
        "id": "w6K7xa23Elo4"
      }
    },
    {
      "cell_type": "markdown",
      "source": [
        "**MyGitHub Link:**  https://github.com/rahulrajbo/GlobalTerrorismDataset"
      ],
      "metadata": {
        "id": "h1o69JH3Eqqn"
      }
    },
    {
      "cell_type": "markdown",
      "source": [
        "# **Problem Statement**\n"
      ],
      "metadata": {
        "id": "yQaldy8SH6Dl"
      }
    },
    {
      "cell_type": "markdown",
      "source": [
        "Using exploratory data analysis (EDA) techniques on the Global Terrorism Dataset (GTD) to identify hot zones of terrorism and discern evolving patterns of terrorist activities.\n",
        "The analysis aims to identify regions most affected by terrorism, understand contributing factors, and assess threat severity for resource allocation. Patterns in attack frequency, methods, and targets will be examined to adapt strategies. Correlations between socioeconomic conditions, instability, and terrorism will be explored."
      ],
      "metadata": {
        "id": "DpeJGUA3kjGy"
      }
    },
    {
      "cell_type": "markdown",
      "source": [
        "#### **Define Your Business Objective?**"
      ],
      "metadata": {
        "id": "PH-0ReGfmX4f"
      }
    },
    {
      "cell_type": "markdown",
      "source": [
        "The objective of this project is to leverage the Global Terrorism Dataset (GTD) to derive actionable insights into terrorist activities worldwide from 1970 to 2017. The main objectives include:\n",
        "\n",
        "**Identification of global hot zones for terrorist activities:** By determining the most affected regions, resources can be allocated more effectively to prevent future attacks.\n",
        "\n",
        "**Analysis of frequency and intensity of attacks:** Understanding how these have evolved over time provides insights into changing dynamics of terrorism and allows for more accurate risk assessment.\n",
        "\n",
        "**Examination of methodologies and weapons used in attacks:** Shedding light on the operational preferences of terrorist organizations and potentially providing early indicators of future trends.\n",
        "\n",
        "**Assessment of casualty trends:** Identifying the most devastating types of attacks and allowing for targeted response planning to minimize human loss.\n",
        "\n",
        "**Unveiling patterns related to terrorist organizations:** Understanding their strategies supports intelligence agencies in their counterterrorism efforts.\n",
        "\n",
        "By achieving these objectives, the project aims to contribute to the understanding of global terrorism patterns, enhance risk assessment, and support efforts to counteract terrorist activities effectively."
      ],
      "metadata": {
        "id": "PhDvGCAqmjP1"
      }
    },
    {
      "cell_type": "markdown",
      "source": [
        "# **General Guidelines** : -  "
      ],
      "metadata": {
        "id": "mDgbUHAGgjLW"
      }
    },
    {
      "cell_type": "markdown",
      "source": [
        "1.   Well-structured, formatted, and commented code is required.\n",
        "2.   Exception Handling, Production Grade Code & Deployment Ready Code will be a plus. Those students will be awarded some additional credits.\n",
        "     \n",
        "     The additional credits will have advantages over other students during Star Student selection.\n",
        "       \n",
        "             [ Note: - Deployment Ready Code is defined as, the whole .ipynb notebook should be executable in one go\n",
        "                       without a single error logged. ]\n",
        "\n",
        "3.   Each and every logic should have proper comments.\n",
        "4. You may add as many number of charts you want. Make Sure for each and every chart the following format should be answered.\n",
        "        \n",
        "\n",
        "```\n",
        "# Chart visualization code\n",
        "```\n",
        "            \n",
        "\n",
        "*   Why did you pick the specific chart?\n",
        "*   What is/are the insight(s) found from the chart?\n",
        "* Will the gained insights help creating a positive business impact?\n",
        "Are there any insights that lead to negative growth? Justify with specific reason.\n",
        "\n",
        "5. You have to create at least 20 logical & meaningful charts having important insights.\n",
        "\n",
        "\n",
        "[ Hints : - Do the Vizualization in  a structured way while following \"UBM\" Rule.\n",
        "\n",
        "U - Univariate Analysis,\n",
        "\n",
        "B - Bivariate Analysis (Numerical - Categorical, Numerical - Numerical, Categorical - Categorical)\n",
        "\n",
        "M - Multivariate Analysis\n",
        " ]\n",
        "\n",
        "\n",
        "\n"
      ],
      "metadata": {
        "id": "ZrxVaUj-hHfC"
      }
    },
    {
      "cell_type": "markdown",
      "source": [
        "# ***Let's Begin !***"
      ],
      "metadata": {
        "id": "O_i_v8NEhb9l"
      }
    },
    {
      "cell_type": "markdown",
      "source": [
        "## ***1. Know Your Data***"
      ],
      "metadata": {
        "id": "HhfV-JJviCcP"
      }
    },
    {
      "cell_type": "markdown",
      "source": [
        "### Import Libraries"
      ],
      "metadata": {
        "id": "Y3lxredqlCYt"
      }
    },
    {
      "cell_type": "code",
      "source": [
        "# Import Libraries\n",
        "\n",
        "import pandas as pd\n",
        "import numpy as np\n",
        "import matplotlib.pyplot as plt\n",
        "import seaborn as sns\n",
        "import datetime"
      ],
      "metadata": {
        "id": "M8Vqi-pPk-HR"
      },
      "execution_count": null,
      "outputs": []
    },
    {
      "cell_type": "markdown",
      "source": [
        "### Dataset Loading"
      ],
      "metadata": {
        "id": "3RnN4peoiCZX"
      }
    },
    {
      "cell_type": "code",
      "source": [
        "# Load Dataset\n",
        "\n",
        "from google.colab import drive\n",
        "drive.mount('/content/drive')"
      ],
      "metadata": {
        "id": "4CkvbW_SlZ_R"
      },
      "execution_count": null,
      "outputs": []
    },
    {
      "cell_type": "code",
      "source": [
        "df= pd.read_csv('/content/drive/MyDrive/Projects/Global Terrorism Data.csv', encoding= 'ISO-8859-1')"
      ],
      "metadata": {
        "id": "rAopFAe6gHrP"
      },
      "execution_count": null,
      "outputs": []
    },
    {
      "cell_type": "markdown",
      "source": [
        "### Dataset First View"
      ],
      "metadata": {
        "id": "x71ZqKXriCWQ"
      }
    },
    {
      "cell_type": "code",
      "source": [
        "# Dataset First Look\n",
        "\n",
        "df.head()\n"
      ],
      "metadata": {
        "id": "LWNFOSvLl09H"
      },
      "execution_count": null,
      "outputs": []
    },
    {
      "cell_type": "code",
      "source": [
        "df.tail()"
      ],
      "metadata": {
        "id": "4ruLIhecvtRK"
      },
      "execution_count": null,
      "outputs": []
    },
    {
      "cell_type": "markdown",
      "source": [
        "### Dataset Rows & Columns count"
      ],
      "metadata": {
        "id": "7hBIi_osiCS2"
      }
    },
    {
      "cell_type": "code",
      "source": [
        "# Dataset Rows & Columns count\n",
        "\n",
        "df.shape"
      ],
      "metadata": {
        "id": "Kllu7SJgmLij"
      },
      "execution_count": null,
      "outputs": []
    },
    {
      "cell_type": "markdown",
      "source": [
        "### Dataset Information"
      ],
      "metadata": {
        "id": "JlHwYmJAmNHm"
      }
    },
    {
      "cell_type": "code",
      "source": [
        "# Dataset Info\n",
        "\n",
        "df.info()"
      ],
      "metadata": {
        "id": "e9hRXRi6meOf"
      },
      "execution_count": null,
      "outputs": []
    },
    {
      "cell_type": "markdown",
      "source": [
        "#### Duplicate Values"
      ],
      "metadata": {
        "id": "35m5QtbWiB9F"
      }
    },
    {
      "cell_type": "code",
      "source": [
        "# Dataset Duplicate Value Count\n",
        "\n",
        "duplicate_values= df.duplicated().sum()\n",
        "print(f'There are {duplicate_values} duplicate values in the dataset')"
      ],
      "metadata": {
        "id": "1sLdpKYkmox0"
      },
      "execution_count": null,
      "outputs": []
    },
    {
      "cell_type": "markdown",
      "source": [
        "#### Missing Values/Null Values"
      ],
      "metadata": {
        "id": "PoPl-ycgm1ru"
      }
    },
    {
      "cell_type": "code",
      "source": [
        "# Missing Values/Null Values Count\n",
        "\n",
        "df.isna().sum()"
      ],
      "metadata": {
        "id": "GgHWkxvamxVg"
      },
      "execution_count": null,
      "outputs": []
    },
    {
      "cell_type": "code",
      "source": [
        "# Visualizing the missing values\n",
        "\n",
        "plt.figure(figsize=(30, 10))\n",
        "sns.barplot(x=df.columns, y=df.isna().sum())\n",
        "plt.xlabel('Columns')\n",
        "plt.ylabel('Count of Missing Values')\n",
        "plt.title('Missing Values in Each Column')\n",
        "plt.xticks(rotation=90)\n",
        "plt.show()"
      ],
      "metadata": {
        "id": "3q5wnI3om9sJ"
      },
      "execution_count": null,
      "outputs": []
    },
    {
      "cell_type": "markdown",
      "source": [
        "### What did you know about your dataset?"
      ],
      "metadata": {
        "id": "H0kj-8xxnORC"
      }
    },
    {
      "cell_type": "markdown",
      "source": [
        "**Dataset Size:** The data set is quite large containing 181,691 entries or rows.\n",
        "\n",
        "**Feature Quantity:** The data set contains 135 features or columns.\n",
        "\n",
        "**Data Types:** The Dataset has a mix of data types. There are 55 features(columns) with floating point numbers(float64), 22 features with integers(int64), and 58 features with objects(object). The object datatype in pandas typically means the column contains string(text) data.\n",
        "\n",
        "**Missing Values:** There are some columns with large number of missing values.|For example, in the 'approxdate' column has 172,452 missing values and the 'related' column has 156,653 missing values. However several columns do not have any missing values such as 'eventid', 'iyear', 'imonth','iday' etc.\n",
        "\n",
        "**Memory Usage:** The Dataset uses over 187.1 MB of memory."
      ],
      "metadata": {
        "id": "gfoNAAC-nUe_"
      }
    },
    {
      "cell_type": "markdown",
      "source": [
        "## ***2. Understanding Your Variables***"
      ],
      "metadata": {
        "id": "nA9Y7ga8ng1Z"
      }
    },
    {
      "cell_type": "code",
      "source": [
        "# Dataset Columns\n",
        "\n",
        "columns_name= df.columns\n",
        "print([column for column in columns_name])"
      ],
      "metadata": {
        "id": "j7xfkqrt5Ag5"
      },
      "execution_count": null,
      "outputs": []
    },
    {
      "cell_type": "code",
      "source": [
        "# Dataset Describe\n",
        "\n",
        "summary= df.describe()\n",
        "print(summary)"
      ],
      "metadata": {
        "id": "DnOaZdaE5Q5t"
      },
      "execution_count": null,
      "outputs": []
    },
    {
      "cell_type": "markdown",
      "source": [
        "### Variables Description"
      ],
      "metadata": {
        "id": "PBTbrJXOngz2"
      }
    },
    {
      "cell_type": "markdown",
      "source": [
        "**eventid:** Incidents from the GTD follow a 12-digit Event ID system.\n",
        "\n",
        "• First 8 numbers – date recorded “yyyymmdd”.\n",
        "\n",
        "• Last 4 numbers – sequential case number for the given day (0001, 0002 etc).\n",
        "\n",
        "**iyear:** This field contains the year in which the incident initiated.\n",
        "\n",
        "**imonth:** the month in which the incident occurred.\n",
        "\n",
        "**iday:** The day when the incident was initiated.\n",
        "\n",
        "**country_txt:** Name of the country where the terrorist attack occured.\n",
        "\n",
        "**region_txt:** Name of the region where the terrorist attack occured.\n",
        "\n",
        "**city:** Name of the city, village, or town where the terrorist attack occured.\n",
        "\n",
        "**latitude:** Records the latitude of the city in which the event occurred.\n",
        "\n",
        "**longitude:** Records the longitude of the city in which the event occurred.\n",
        "\n",
        "**attacktype1_txt:** General method of attack employed.\n",
        "\n",
        "**success:** Success of a terrorist strike is defined according to the tangible effects of the attack.\n",
        "\n",
        "\n",
        "**targtype1_txt:** The specific person, building, installation, etc. that is targeted.\n",
        "\n",
        "**natlty1_txt:** The nationality of the target that was attacked.\n",
        "\n",
        "**gname:** The name of the group that carried out the attack.\n",
        "\n",
        "**weaptype1_txt:** The general type of weapon used in the incident.\n",
        "\n",
        "**nkill:** The number of total confirmed fatalities.\n",
        "\n",
        "**nwound:** The number of total confirmed wounded.Answer Here"
      ],
      "metadata": {
        "id": "aJV4KIxSnxay"
      }
    },
    {
      "cell_type": "markdown",
      "source": [
        "### Check Unique Values for each variable."
      ],
      "metadata": {
        "id": "u3PMJOP6ngxN"
      }
    },
    {
      "cell_type": "code",
      "source": [
        "# Check Unique Values for each variable.\n",
        "\n",
        "for i in df.columns.to_list():\n",
        "  print(df[i].unique())\n",
        "  print('****************')\n",
        "  print('****************')"
      ],
      "metadata": {
        "id": "zms12Yq5n-jE"
      },
      "execution_count": null,
      "outputs": []
    },
    {
      "cell_type": "markdown",
      "source": [
        "## 3. ***Data Wrangling***"
      ],
      "metadata": {
        "id": "dauF4eBmngu3"
      }
    },
    {
      "cell_type": "markdown",
      "source": [
        "### Data Wrangling Code"
      ],
      "metadata": {
        "id": "bKJF3rekwFvQ"
      }
    },
    {
      "cell_type": "code",
      "source": [
        "# Write your code to make your dataset analysis ready.\n",
        "\n",
        "df.rename(columns={'iyear': 'Year', 'imonth': 'Month', 'iday': 'Day', 'country_txt': 'Country', 'region_txt': 'Region', 'city': 'City', 'attacktype1_txt': 'Attack_Type', 'targtype1_txt': 'Target_Type', 'gname': 'Group_Name', 'weaptype1_txt': 'Weapon_Type', 'nkill': 'Killed', 'nwound': 'Injured'}, inplace=True)\n",
        "df = df[['Year', 'Month', 'Day', 'Country', 'Region', 'City', 'latitude', 'longitude', 'Attack_Type', 'success', 'Target_Type', 'Group_Name', 'Weapon_Type', 'Killed', 'Injured']]\n",
        "df.head()"
      ],
      "metadata": {
        "id": "wk-9a2fpoLcV"
      },
      "execution_count": null,
      "outputs": []
    },
    {
      "cell_type": "code",
      "source": [
        "df.shape"
      ],
      "metadata": {
        "id": "hjsRqhmcbBHu"
      },
      "execution_count": null,
      "outputs": []
    },
    {
      "cell_type": "code",
      "source": [
        "df.info()"
      ],
      "metadata": {
        "id": "jxIMuhWzlyNk"
      },
      "execution_count": null,
      "outputs": []
    },
    {
      "cell_type": "code",
      "source": [
        "df.isna().sum()"
      ],
      "metadata": {
        "id": "L-jbMHn4xHgw"
      },
      "execution_count": null,
      "outputs": []
    },
    {
      "cell_type": "code",
      "source": [
        "mode_Killed = df['Killed'].mode().iloc[0]\n",
        "df.loc[:, 'Killed'] = df['Killed'].fillna(mode_Killed)\n",
        "\n",
        "mode_Injured = df['Injured'].mode().iloc[0]\n",
        "df.loc[:, 'Injured'] = df['Injured'].fillna(mode_Injured)"
      ],
      "metadata": {
        "id": "QmTn2uzvy9HQ"
      },
      "execution_count": null,
      "outputs": []
    },
    {
      "cell_type": "code",
      "source": [
        "df.dropna(inplace= True)\n",
        "df.reset_index().head()"
      ],
      "metadata": {
        "id": "gHKlkZu_0iuQ"
      },
      "execution_count": null,
      "outputs": []
    },
    {
      "cell_type": "code",
      "source": [
        "df.isna().sum()"
      ],
      "metadata": {
        "id": "8A4-_7YTxaAz"
      },
      "execution_count": null,
      "outputs": []
    },
    {
      "cell_type": "code",
      "source": [
        "df.describe(include='all')"
      ],
      "metadata": {
        "id": "Wf-UX_ZqnMO7"
      },
      "execution_count": null,
      "outputs": []
    },
    {
      "cell_type": "code",
      "source": [
        "df.Country.nunique()"
      ],
      "metadata": {
        "id": "2V6sGOqZnWxs"
      },
      "execution_count": null,
      "outputs": []
    },
    {
      "cell_type": "code",
      "source": [
        "print('Top 5 countries with highest number of terrorist attacks:')\n",
        "df['Country'].value_counts().head()"
      ],
      "metadata": {
        "id": "1It-Uft5l5g9"
      },
      "execution_count": null,
      "outputs": []
    },
    {
      "cell_type": "code",
      "source": [
        "print('Top 5 Regions with highest number of terrorist attacks:')\n",
        "df['Region'].value_counts().head()"
      ],
      "metadata": {
        "id": "Ev6WpxQm3ApG"
      },
      "execution_count": null,
      "outputs": []
    },
    {
      "cell_type": "code",
      "source": [
        "print('Top 5 cities with highest number of terrorist attacks:')\n",
        "df[df['City']!='Unknown']['City'].value_counts().head()"
      ],
      "metadata": {
        "id": "H_0gfmTo5Qh6"
      },
      "execution_count": null,
      "outputs": []
    },
    {
      "cell_type": "code",
      "source": [
        "df['Casualties']= df['Killed']+ df['Injured']"
      ],
      "metadata": {
        "id": "Wcoa8kVW61nU"
      },
      "execution_count": null,
      "outputs": []
    },
    {
      "cell_type": "code",
      "source": [
        "df.head(1)"
      ],
      "metadata": {
        "id": "-gqoSajy-8Mt"
      },
      "execution_count": null,
      "outputs": []
    },
    {
      "cell_type": "code",
      "source": [
        "print('maximum number of casualties in a single terrorist attack')\n",
        "df['Casualties'].max()"
      ],
      "metadata": {
        "id": "69QooXGe3GBn"
      },
      "execution_count": null,
      "outputs": []
    },
    {
      "cell_type": "code",
      "source": [
        "max_casualties_date_index = df['Casualties'].idxmax()\n",
        "max_casualties_date = df.loc[max_casualties_date_index, ['Year', 'Month', 'Day']]\n",
        "date_obj = datetime.datetime(max_casualties_date['Year'], max_casualties_date['Month'], max_casualties_date['Day'])\n",
        "formatted_date = date_obj.strftime('%m/%d/%Y')\n",
        "print('Date with the highest number of casualties:', formatted_date)"
      ],
      "metadata": {
        "id": "lRpanR3K_OPe"
      },
      "execution_count": null,
      "outputs": []
    },
    {
      "cell_type": "code",
      "source": [
        "print('most active 5 terrorist groups:')\n",
        "df[df['Group_Name']!= 'Unknown']['Group_Name'].value_counts().head()"
      ],
      "metadata": {
        "id": "2MBvmcdu6aiC"
      },
      "execution_count": null,
      "outputs": []
    },
    {
      "cell_type": "code",
      "source": [
        "print('most used 5 weapons in terror activities:')\n",
        "df[df['Weapon_Type']!='Unknown']['Weapon_Type'].value_counts().head()"
      ],
      "metadata": {
        "id": "oz0FQTYF7RAx"
      },
      "execution_count": null,
      "outputs": []
    },
    {
      "cell_type": "markdown",
      "source": [
        "### What all manipulations have you done and insights you found?"
      ],
      "metadata": {
        "id": "MSa1f5Uengrz"
      }
    },
    {
      "cell_type": "markdown",
      "source": [
        "After analysing the code book and csv file of Global Terrorism Dataset I concluded that there are so many columns(135) which are not providing us too much useful information.\n",
        "So we will rename some column names for better understanding column name and then we will only extract some necessary columns for further analysis.\n",
        "\n",
        "Now we see that the **longitude** and **latitude** columns have some null values and they are not so much useful as instead of them we can use the data provided in **country, region, city** columns. so we will the rows with the missing values in  them.\n",
        "\n",
        "There are many null values in **killed** and **injured** columns so we will those null values by the taking the **mode** of those columns and filled in the values in their respective columns.\n",
        "\n",
        "their are a little null values in **city** columns so we will directly drop them as there are app. 181,257 rows available.\n",
        "\n",
        "\n",
        "**Some Insights**--\n",
        "\n",
        "\n",
        "1- **205** of **249**(as of 2017) countries have reported terrorist activities at least once between 1970 and 2017.\n",
        "\n",
        "2- the country faced most terrorist attacks is- **Iraq**\n",
        "\n",
        "3- the region faced most terrorist attacks is- **Middle East and North Africa**\n",
        "\n",
        "4- the city faced most terrorist attacks is- **Baghdad**\n",
        "\n",
        "5- maximum no of casualties in single terrorist attack- **9574**\n",
        "\n",
        "6- maximum no of casualties on date- **9/11/2011**\n",
        "\n",
        "7- most active terrorist group- **Taliban**\n",
        "\n",
        "8- most used weapon for terrorist activities- **Explosives**\n"
      ],
      "metadata": {
        "id": "LbyXE7I1olp8"
      }
    },
    {
      "cell_type": "markdown",
      "source": [
        "## ***4. Data Vizualization, Storytelling & Experimenting with charts : Understand the relationships between variables***"
      ],
      "metadata": {
        "id": "GF8Ens_Soomf"
      }
    },
    {
      "cell_type": "markdown",
      "source": [
        "#### Chart - 1"
      ],
      "metadata": {
        "id": "0wOQAZs5pc--"
      }
    },
    {
      "cell_type": "code",
      "source": [
        "# Chart - 1 visualization code\n",
        "\n",
        "plt.figure(figsize=(15,7))\n",
        "sns.countplot(data= df, x='Year')\n",
        "plt.xlabel('Year')\n",
        "plt.xticks(rotation=90)\n",
        "plt.ylabel('counts')\n",
        "plt.title('Count of terrorist activities each year')\n",
        "plt.show()"
      ],
      "metadata": {
        "id": "7v_ESjsspbW7"
      },
      "execution_count": null,
      "outputs": []
    },
    {
      "cell_type": "markdown",
      "source": [
        "##### 1. Why did you pick the specific chart?"
      ],
      "metadata": {
        "id": "K5QZ13OEpz2H"
      }
    },
    {
      "cell_type": "markdown",
      "source": [
        "The countplot is a suitable choice for this task because it displays the frequency or count of observations in each category.\n",
        "In this case, the categories are the years, and the countplot allows you to see the distribution and compare the number of terrorist activities across different years.\n",
        "\n",
        "Most of the terrorist activities occured in year: **2017**"
      ],
      "metadata": {
        "id": "XESiWehPqBRc"
      }
    },
    {
      "cell_type": "markdown",
      "source": [
        "##### 2. What is/are the insight(s) found from the chart?"
      ],
      "metadata": {
        "id": "lQ7QKXXCp7Bj"
      }
    },
    {
      "cell_type": "markdown",
      "source": [
        "**Increasing Trend:** The chart shows that the number of terrorist activities has generally increased over the years, with some fluctuations. This indicates a rising trend in global terrorism.\n",
        "\n",
        "**Peaks and Valleys:** There are noticeable peaks and valleys in certain years, suggesting variations in the occurrence of terrorist activities. These peaks might correspond to significant events or periods of heightened terrorist incidents."
      ],
      "metadata": {
        "id": "C_j1G7yiqdRP"
      }
    },
    {
      "cell_type": "markdown",
      "source": [
        "**##### 3. Will the gained insights help creating a positive business impact?**\n",
        "\n",
        "\n",
        "\n",
        "\n",
        "\n",
        "\n",
        "**Are there any insights that lead to negative growth? Justify with specific reason.**\n",
        "\n",
        "\n",
        "\n",
        "\n",
        "\n"
      ],
      "metadata": {
        "id": "448CDAPjqfQr"
      }
    },
    {
      "cell_type": "markdown",
      "source": [
        "**Strategic Planning:** Businesses can adapt their strategies based on long-term terrorism trends, identifying safer markets or regions, and developing contingency plans to ensure business continuity.\n",
        "\n",
        "**Partnerships and Collaborations:** Collaborating with government agencies, security organizations, and industry associations can enhance information sharing and collective efforts to combat terrorism, fostering a safer business environment.\n",
        "\n",
        "\n",
        "**insights that lead to negative growth--------**\n",
        "\n",
        "**Disruption of Operations:** Security concerns, infrastructure damage, and travel restrictions can disrupt business operations, leading to delays and impacting growth.\n",
        "\n",
        "**Increased Costs:** Security measures, insurance premiums, and risk mitigation strategies can increase costs, affecting profit margins and hindering growth.\n",
        "\n",
        "**Restricted Market Expansion:** Regulatory barriers and security concerns can limit market expansion efforts, limiting growth potential.\n",
        "\n",
        "**Economic Impact:** Terrorism can result in reduced foreign investment, decreased tourism, and disrupted economic activities, negatively impacting the overall business environment and growth opportunities.\n",
        "\n"
      ],
      "metadata": {
        "id": "3cspy4FjqxJW"
      }
    },
    {
      "cell_type": "markdown",
      "source": [
        "#### Chart - 2"
      ],
      "metadata": {
        "id": "KSlN3yHqYklG"
      }
    },
    {
      "cell_type": "code",
      "source": [
        "# Chart - 2 visualization code\n",
        "\n",
        "plt.figure(figsize=(15,7))\n",
        "sns.countplot(data=df, x='Country', order=df['Country'].value_counts().head(15).index)\n",
        "plt.xlabel('Country')\n",
        "plt.xticks(rotation=90)\n",
        "plt.ylabel('counts')\n",
        "plt.title('Count of terrorist activities by country')\n",
        "plt.show()"
      ],
      "metadata": {
        "id": "R4YgtaqtYklH"
      },
      "execution_count": null,
      "outputs": []
    },
    {
      "cell_type": "markdown",
      "source": [
        "##### 1. Why did you pick the specific chart?"
      ],
      "metadata": {
        "id": "t6dVpIINYklI"
      }
    },
    {
      "cell_type": "markdown",
      "source": [
        "The code uses a countplot from the seaborn library to visualize the count of terrorist activities by country. This specific chart type is suitable for displaying the frequency of occurrences in categorical data, making it appropriate for showcasing the count of terrorist activities in different countries.\n",
        "\n",
        "Maximum terrorist activities in country: **Iraq**"
      ],
      "metadata": {
        "id": "5aaW0BYyYklI"
      }
    },
    {
      "cell_type": "markdown",
      "source": [
        "##### 2. What is/are the insight(s) found from the chart?"
      ],
      "metadata": {
        "id": "ijmpgYnKYklI"
      }
    },
    {
      "cell_type": "markdown",
      "source": [
        "The chart provides insights into the count of terrorist activities in different countries. By analyzing the bar heights, we can identify the countries with the highest number of reported terrorist activities. The top 15 countries with the highest counts are displayed in the chart, allowing us to compare their relative frequencies."
      ],
      "metadata": {
        "id": "PSx9atu2YklI"
      }
    },
    {
      "cell_type": "markdown",
      "source": [
        "##### 3. Will the gained insights help creating a positive business impact?\n",
        "Are there any insights that lead to negative growth? Justify with specific reason."
      ],
      "metadata": {
        "id": "-JiQyfWJYklI"
      }
    },
    {
      "cell_type": "markdown",
      "source": [
        "The gained insights can potentially help create a positive business impact. Understanding the countries with a high incidence of terrorist activities can inform businesses operating in those regions about potential risks and enable them to implement appropriate security measures. It can also guide investment decisions and resource allocation to mitigate risks and ensure the safety of employees, assets, and operations.\n",
        "\n",
        "\n",
        "**Insights that led to negative growth------------**\n",
        "\n",
        "High frequency of terrorist activities in countries where a business operates or plans to expand, it could potentially have a negative impact on growth. Increased security costs, disruptions to operations, and potential market restrictions can hinder business expansion and profitability. Mitigating these risks and developing effective risk management strategies is crucial to minimize negative growth consequences."
      ],
      "metadata": {
        "id": "BcBbebzrYklV"
      }
    },
    {
      "cell_type": "markdown",
      "source": [
        "#### Chart - 3"
      ],
      "metadata": {
        "id": "EM7whBJCYoAo"
      }
    },
    {
      "cell_type": "code",
      "source": [
        "# Chart - 3 visualization code\n",
        "\n",
        "plt.figure(figsize=(15,7))\n",
        "sns.countplot(data= df, x='Region')\n",
        "plt.xlabel('Region')\n",
        "plt.xticks(rotation=90)\n",
        "plt.ylabel('counts')\n",
        "plt.title('Count of terrorist activities by Region')\n",
        "plt.show()"
      ],
      "metadata": {
        "id": "t6GMdE67YoAp"
      },
      "execution_count": null,
      "outputs": []
    },
    {
      "cell_type": "markdown",
      "source": [
        "##### 1. Why did you pick the specific chart?"
      ],
      "metadata": {
        "id": "fge-S5ZAYoAp"
      }
    },
    {
      "cell_type": "markdown",
      "source": [
        "The code uses a countplot from the seaborn library to visualize the count of terrorist activities by Region. This specific chart type is suitable for displaying the frequency of occurrences in categorical data, making it appropriate for showcasing the count of terrorist activities in different regions.\n",
        "\n",
        "Maximum terrorist activities in region: **Middle East and North Africa**"
      ],
      "metadata": {
        "id": "5dBItgRVYoAp"
      }
    },
    {
      "cell_type": "markdown",
      "source": [
        "##### 2. What is/are the insight(s) found from the chart?"
      ],
      "metadata": {
        "id": "85gYPyotYoAp"
      }
    },
    {
      "cell_type": "markdown",
      "source": [
        "The chart provides insights into the count of terrorist activities in different regions. By analyzing the bar heights, we can identify the regions with the highest number of reported terrorist activities."
      ],
      "metadata": {
        "id": "4jstXR6OYoAp"
      }
    },
    {
      "cell_type": "markdown",
      "source": [
        "##### 3. Will the gained insights help creating a positive business impact?\n",
        "Are there any insights that lead to negative growth? Justify with specific reason."
      ],
      "metadata": {
        "id": "RoGjAbkUYoAp"
      }
    },
    {
      "cell_type": "markdown",
      "source": [
        "The gained insights can potentially help create a positive business impact. Understanding the regions with a high incidence of terrorist activities can inform businesses operating in those regions about potential risks and enable them to implement appropriate security measures. It can also guide investment decisions and resource allocation to mitigate risks and ensure the safety of employees, assets, and operations.\n",
        "\n",
        "\n",
        "**Insights that led to negative growth------------**\n",
        "\n",
        "High frequency of terrorist activities in regions where a business operates or plans to expand, it could potentially have a negative impact on growth. Increased security costs, disruptions to operations, and potential market restrictions can hinder business expansion and profitability. Mitigating these risks and developing effective risk management strategies is crucial to minimize negative growth consequences."
      ],
      "metadata": {
        "id": "zfJ8IqMcYoAp"
      }
    },
    {
      "cell_type": "markdown",
      "source": [
        "#### Chart - 4"
      ],
      "metadata": {
        "id": "4Of9eVA-YrdM"
      }
    },
    {
      "cell_type": "code",
      "source": [
        "# Chart - 4 visualization code\n",
        "\n",
        "plt.figure(figsize=(15,7))\n",
        "sns.countplot(data=df, x='City', order=df['City'].value_counts().head(15).index)\n",
        "plt.xlabel('City')\n",
        "plt.xticks(rotation=90)\n",
        "plt.ylabel('counts')\n",
        "plt.title('Count of terrorist activities by City')\n",
        "plt.show()"
      ],
      "metadata": {
        "id": "irlUoxc8YrdO"
      },
      "execution_count": null,
      "outputs": []
    },
    {
      "cell_type": "markdown",
      "source": [
        "##### 1. Why did you pick the specific chart?"
      ],
      "metadata": {
        "id": "iky9q4vBYrdO"
      }
    },
    {
      "cell_type": "markdown",
      "source": [
        "The code uses a countplot from the seaborn library to visualize the count of terrorist activities by city. This specific chart type is suitable for displaying the frequency of occurrences in categorical data, making it appropriate for showcasing the count of terrorist activities in different cities.\n",
        "\n",
        "Maximum terrorist activities in city: **Baghdad**"
      ],
      "metadata": {
        "id": "aJRCwT6DYrdO"
      }
    },
    {
      "cell_type": "markdown",
      "source": [
        "##### 2. What is/are the insight(s) found from the chart?"
      ],
      "metadata": {
        "id": "F6T5p64dYrdO"
      }
    },
    {
      "cell_type": "markdown",
      "source": [
        "The chart provides insights into the count of terrorist activities in different cities. By analyzing the bar heights, we can identify the countries with the highest number of reported terrorist activities. The top 15 cities with the highest counts are displayed in the chart, allowing us to compare their relative frequencies."
      ],
      "metadata": {
        "id": "Xx8WAJvtYrdO"
      }
    },
    {
      "cell_type": "markdown",
      "source": [
        "##### 3. Will the gained insights help creating a positive business impact?\n",
        "Are there any insights that lead to negative growth? Justify with specific reason."
      ],
      "metadata": {
        "id": "y-Ehk30pYrdP"
      }
    },
    {
      "cell_type": "markdown",
      "source": [
        "The gained insights can potentially help create a positive business impact. Understanding the cities with a high incidence of terrorist activities can inform businesses operating in those regions about potential risks and enable them to implement appropriate security measures. It can also guide investment decisions and resource allocation to mitigate risks and ensure the safety of employees, assets, and operations.\n",
        "\n",
        "\n",
        "**Insights that led to negative growth------------**\n",
        "\n",
        "High frequency of terrorist activities in cities where a business operates or plans to expand, it could potentially have a negative impact on growth. Increased security costs, disruptions to operations, and potential market restrictions can hinder business expansion and profitability. Mitigating these risks and developing effective risk management strategies is crucial to minimize negative growth consequences."
      ],
      "metadata": {
        "id": "jLNxxz7MYrdP"
      }
    },
    {
      "cell_type": "markdown",
      "source": [
        "#### Chart - 5"
      ],
      "metadata": {
        "id": "bamQiAODYuh1"
      }
    },
    {
      "cell_type": "code",
      "source": [
        "# Chart - 5 visualization code\n",
        "\n",
        "plt.figure(figsize=(15,7))\n",
        "sns.lineplot(data=df, x='Year', y= 'Casualties', estimator= sum)\n",
        "plt.xlabel('Year')\n",
        "plt.xticks(rotation=90)\n",
        "plt.ylabel('No of casualties')\n",
        "plt.title('No of casualties by terror attack')\n",
        "plt.show()"
      ],
      "metadata": {
        "id": "TIJwrbroYuh3"
      },
      "execution_count": null,
      "outputs": []
    },
    {
      "cell_type": "markdown",
      "source": [
        "##### 1. Why did you pick the specific chart?"
      ],
      "metadata": {
        "id": "QHF8YVU7Yuh3"
      }
    },
    {
      "cell_type": "markdown",
      "source": [
        "The lineplot is suitable for showcasing the trend or progression of a variable over a continuous axis, which in this case is the number of casualties over the years. It allows for a clear visualization of the changes and patterns in casualty counts over time."
      ],
      "metadata": {
        "id": "dcxuIMRPYuh3"
      }
    },
    {
      "cell_type": "markdown",
      "source": [
        "##### 2. What is/are the insight(s) found from the chart?"
      ],
      "metadata": {
        "id": "GwzvFGzlYuh3"
      }
    },
    {
      "cell_type": "markdown",
      "source": [
        "The lineplot provides insights into the trends in the number of casualties caused by terrorist attacks over the years. By analyzing the line's direction and slope, we can identify periods of high or low casualties, observe any increasing or decreasing trends, and detect significant changes in the pattern of casualties."
      ],
      "metadata": {
        "id": "uyqkiB8YYuh3"
      }
    },
    {
      "cell_type": "markdown",
      "source": [
        "##### 3. Will the gained insights help creating a positive business impact?\n",
        "Are there any insights that lead to negative growth? Justify with specific reason."
      ],
      "metadata": {
        "id": "qYpmQ266Yuh3"
      }
    },
    {
      "cell_type": "markdown",
      "source": [
        "Understanding the trends and patterns in the number of casualties caused by terrorist attacks can inform businesses, governments, and security agencies about the effectiveness of counterterrorism measures, the impact of policies, and the evolving nature of terrorist threats. This knowledge can guide the development of proactive strategies and initiatives to enhance security, mitigate risks, and protect lives and assets.\n",
        "\n",
        "**insights that lead to negative growth-------------**\n",
        "\n",
        "Negative growth may occur if the lineplot shows a consistently increasing trend or a sudden surge in the number of casualties over the years. Such insights indicate a worsening security situation and potential challenges for businesses operating in affected areas. Increased security concerns, disruptions to operations, and a decline in consumer confidence may negatively impact business growth and investment opportunities. It becomes crucial for businesses to assess the risks and develop appropriate risk mitigation strategies to navigate these challenges effectively."
      ],
      "metadata": {
        "id": "_WtzZ_hCYuh4"
      }
    },
    {
      "cell_type": "markdown",
      "source": [
        "#### Chart - 6"
      ],
      "metadata": {
        "id": "OH-pJp9IphqM"
      }
    },
    {
      "cell_type": "code",
      "source": [
        "# Chart - 6 visualization code\n",
        "\n",
        "plt.figure(figsize=(15,7))\n",
        "sns.countplot(data=df, x='Attack_Type')\n",
        "plt.xlabel('Attack Type')\n",
        "plt.xticks(rotation=90)\n",
        "plt.ylabel('counts')\n",
        "plt.title('Most used weapon for terrorist activities')\n",
        "plt.show()"
      ],
      "metadata": {
        "id": "kuRf4wtuphqN"
      },
      "execution_count": null,
      "outputs": []
    },
    {
      "cell_type": "markdown",
      "source": [
        "##### 1. Why did you pick the specific chart?"
      ],
      "metadata": {
        "id": "bbFf2-_FphqN"
      }
    },
    {
      "cell_type": "markdown",
      "source": [
        "The countplot is suitable for displaying the frequency of categorical variables, in this case, the different attack types. It provides a clear visualization of the distribution of attack types and allows for easy comparison between the categories."
      ],
      "metadata": {
        "id": "loh7H2nzphqN"
      }
    },
    {
      "cell_type": "markdown",
      "source": [
        "##### 2. What is/are the insight(s) found from the chart?"
      ],
      "metadata": {
        "id": "_ouA3fa0phqN"
      }
    },
    {
      "cell_type": "markdown",
      "source": [
        "The countplot reveals the most common attack types used in terrorist activities. By examining the heights of the bars, we can identify the attack types that occur most frequently. This insight helps in understanding the preferred methods of terrorists and provides valuable information for counterterrorism efforts and security planning.\n",
        "\n",
        "Most used weapon for terrorist activities: **Bombing/Explosion**"
      ],
      "metadata": {
        "id": "VECbqPI7phqN"
      }
    },
    {
      "cell_type": "markdown",
      "source": [
        "##### 3. Will the gained insights help creating a positive business impact?\n",
        "Are there any insights that lead to negative growth? Justify with specific reason."
      ],
      "metadata": {
        "id": "Seke61FWphqN"
      }
    },
    {
      "cell_type": "markdown",
      "source": [
        "Understanding the most commonly used attack types in terrorist activities allows businesses, governments, and security agencies to develop targeted security measures and counterterrorism strategies. By aligning their security protocols and risk management strategies with the prevalent attack types, businesses can enhance their preparedness, protect their assets, and ensure the safety of their employees and customers.\n",
        "\n",
        "**Insights that lead to negative growth-----------------**\n",
        "\n",
        "Insights from the countplot may not directly lead to negative growth. However, certain attack types that are more frequent and potentially more destructive, such as bombings or armed assaults, can create a negative impact on businesses operating in affected areas. Heightened security concerns, infrastructure damage, and disruptions to normal operations can lead to decreased consumer confidence, reduced economic activity, and limited growth opportunities. It becomes essential for businesses to assess the risks associated with specific attack types and implement robust security measures to mitigate potential negative impacts and ensure business continuity."
      ],
      "metadata": {
        "id": "DW4_bGpfphqN"
      }
    },
    {
      "cell_type": "markdown",
      "source": [
        "#### Chart - 7"
      ],
      "metadata": {
        "id": "PIIx-8_IphqN"
      }
    },
    {
      "cell_type": "code",
      "source": [
        "# Chart - 7 visualization code\n",
        "\n",
        "plt.figure(figsize=(15,7))\n",
        "sns.countplot(data=df, y='Group_Name', order=df[df['Group_Name']!='Unknown']['Group_Name'].value_counts().head(10).index)\n",
        "plt.xlabel('No of Attacks')\n",
        "plt.ylabel('Terrorist Group')\n",
        "plt.title('Count of terrorist activities by Terrorist Group')\n",
        "plt.show()"
      ],
      "metadata": {
        "id": "lqAIGUfyphqO"
      },
      "execution_count": null,
      "outputs": []
    },
    {
      "cell_type": "markdown",
      "source": [
        "##### 1. Why did you pick the specific chart?"
      ],
      "metadata": {
        "id": "t27r6nlMphqO"
      }
    },
    {
      "cell_type": "markdown",
      "source": [
        "The countplot is appropriate for displaying the frequency of categorical variables, in this case, the terrorist groups. By using the y-axis for the categorical variable, we can easily compare the number of attacks carried out by different terrorist groups."
      ],
      "metadata": {
        "id": "iv6ro40sphqO"
      }
    },
    {
      "cell_type": "markdown",
      "source": [
        "##### 2. What is/are the insight(s) found from the chart?"
      ],
      "metadata": {
        "id": "r2jJGEOYphqO"
      }
    },
    {
      "cell_type": "markdown",
      "source": [
        "The countplot reveals the top 10 terrorist groups based on the number of attacks. By examining the heights of the bars, we can identify the terrorist groups that have been involved in the highest number of attacks. This insight provides valuable information about the prominent terrorist organizations and their impact on global terrorism.\n",
        "\n",
        "Most terrorist attacks done by: **Taliban**"
      ],
      "metadata": {
        "id": "Po6ZPi4hphqO"
      }
    },
    {
      "cell_type": "markdown",
      "source": [
        "##### 3. Will the gained insights help creating a positive business impact?\n",
        "Are there any insights that lead to negative growth? Justify with specific reason."
      ],
      "metadata": {
        "id": "b0JNsNcRphqO"
      }
    },
    {
      "cell_type": "markdown",
      "source": [
        "This information can be beneficial for businesses operating in regions affected by these terrorist groups. It allows businesses to assess the security risks associated with specific groups and implement appropriate security measures to safeguard their assets, employees, and customers.\n",
        "\n",
        "**Insights that lead to negative growth--------------**\n",
        "\n",
        "The presence of prominent terrorist groups can create an environment of insecurity and instability, leading to reduced investor confidence, decreased tourism, and disrupted economic activities. Businesses may face challenges such as operational disruptions, increased security costs, and limited market expansion opportunities. It becomes crucial for businesses to assess the risks associated with operating in such regions and implement effective risk management strategies to mitigate potential negative impacts."
      ],
      "metadata": {
        "id": "xvSq8iUTphqO"
      }
    },
    {
      "cell_type": "markdown",
      "source": [
        "#### Chart - 8"
      ],
      "metadata": {
        "id": "BZR9WyysphqO"
      }
    },
    {
      "cell_type": "code",
      "source": [
        "# Chart - 8 visualization code\n",
        "\n",
        "plt.figure(figsize=(15,7))\n",
        "sns.countplot(data=df, y='Target_Type')\n",
        "plt.xlabel('count')\n",
        "plt.ylabel('Target Type')\n",
        "plt.title('Most common target of terror activities')\n",
        "plt.show()"
      ],
      "metadata": {
        "id": "TdPTWpAVphqO"
      },
      "execution_count": null,
      "outputs": []
    },
    {
      "cell_type": "markdown",
      "source": [
        "##### 1. Why did you pick the specific chart?"
      ],
      "metadata": {
        "id": "jj7wYXLtphqO"
      }
    },
    {
      "cell_type": "markdown",
      "source": [
        "The countplot is suitable for displaying the frequency of categorical variables, in this case, the target types of terror activities. By using the y-axis for the categorical variable, we can easily compare the occurrence of different target types."
      ],
      "metadata": {
        "id": "Ob8u6rCTphqO"
      }
    },
    {
      "cell_type": "markdown",
      "source": [
        "##### 2. What is/are the insight(s) found from the chart?"
      ],
      "metadata": {
        "id": "eZrbJ2SmphqO"
      }
    },
    {
      "cell_type": "markdown",
      "source": [
        "The countplot reveals the most common targets of terror activities. By examining the heights of the bars, we can identify the target types that have been most frequently targeted by terrorists. This insight provides valuable information about the areas or sectors that are more susceptible to terrorist attacks.\n",
        "\n",
        "Most common target of terror activities: **Private Citizens and Property**\n"
      ],
      "metadata": {
        "id": "mZtgC_hjphqO"
      }
    },
    {
      "cell_type": "markdown",
      "source": [
        "##### 3. Will the gained insights help creating a positive business impact?\n",
        "Are there any insights that lead to negative growth? Justify with specific reason."
      ],
      "metadata": {
        "id": "rFu4xreNphqO"
      }
    },
    {
      "cell_type": "markdown",
      "source": [
        "By understanding the most common targets of terror activities, businesses operating in those sectors or locations can better assess the associated risks and take appropriate measures to enhance security and protect their assets, employees, and customers. This proactive approach can contribute to creating a safer environment and ensuring business continuity.\n",
        "\n",
        "**Insights that lead to negative growth-----------**\n",
        "\n",
        " The presence of high-frequency target types indicates a higher risk of attacks, which can create an environment of insecurity and instability. This may result in decreased consumer confidence, reduced investments, and potential disruptions to business operations. It becomes crucial for businesses to assess the risks, implement effective security measures, and collaborate with relevant authorities to mitigate the potential negative impacts and maintain business growth.\n",
        "\n",
        "\n",
        "\n",
        "\n",
        "\n",
        "\n"
      ],
      "metadata": {
        "id": "ey_0qi68phqO"
      }
    },
    {
      "cell_type": "markdown",
      "source": [
        "#### Chart - 9"
      ],
      "metadata": {
        "id": "YJ55k-q6phqO"
      }
    },
    {
      "cell_type": "code",
      "source": [
        "India_df= df[df['Country']=='India']\n",
        "India_df.head()"
      ],
      "metadata": {
        "id": "ekLvdu1cZkM_"
      },
      "execution_count": null,
      "outputs": []
    },
    {
      "cell_type": "code",
      "source": [
        "# Chart - 9 visualization code\n",
        "\n",
        "plt.figure(figsize=(15,7))\n",
        "sns.countplot(data= India_df, x='Year')\n",
        "plt.xlabel('Year')\n",
        "plt.xticks(rotation=90)\n",
        "plt.ylabel('counts')\n",
        "plt.title('Count of terrorist activities each year in India')\n",
        "plt.show()"
      ],
      "metadata": {
        "id": "B2aS4O1ophqO"
      },
      "execution_count": null,
      "outputs": []
    },
    {
      "cell_type": "code",
      "source": [
        "plt.figure(figsize=(15,7))\n",
        "sns.countplot(data= India_df, x='City', order=India_df['City'].value_counts().head(15).index)\n",
        "plt.xlabel('Cities')\n",
        "plt.xticks(rotation=90)\n",
        "plt.ylabel('counts')\n",
        "plt.title('Count of terrorist activities each year')\n",
        "plt.show()"
      ],
      "metadata": {
        "id": "HQWWMb2Za24e"
      },
      "execution_count": null,
      "outputs": []
    },
    {
      "cell_type": "code",
      "source": [
        "plt.figure(figsize=(15,7))\n",
        "sns.lineplot(data=India_df, x='Year', y= 'Casualties', estimator= sum)\n",
        "plt.xlabel('Year')\n",
        "plt.xticks(rotation=90)\n",
        "plt.ylabel('No of casualties')\n",
        "plt.title('No of casualties by terror attack')\n",
        "plt.show()"
      ],
      "metadata": {
        "id": "6R18OybGa_xV"
      },
      "execution_count": null,
      "outputs": []
    },
    {
      "cell_type": "code",
      "source": [
        "plt.figure(figsize=(15,7))\n",
        "sns.countplot(data=India_df, x='Attack_Type')\n",
        "plt.xlabel('Attack Type')\n",
        "plt.xticks(rotation=90)\n",
        "plt.ylabel('counts')\n",
        "plt.title('Most used weapon for terrorist activities')\n",
        "plt.show()"
      ],
      "metadata": {
        "id": "IXEFRTJRa45e"
      },
      "execution_count": null,
      "outputs": []
    },
    {
      "cell_type": "code",
      "source": [
        "plt.figure(figsize=(15,7))\n",
        "sns.countplot(data=India_df, y='Group_Name', order=India_df[India_df['Group_Name']!='Unknown']['Group_Name'].value_counts().head(10).index)\n",
        "plt.xlabel('No of Attacks')\n",
        "plt.ylabel('Terrorist Group')\n",
        "plt.title('Count of terrorist activities by Terrorist Group')\n",
        "plt.show()"
      ],
      "metadata": {
        "id": "bSj6bZsjbK8l"
      },
      "execution_count": null,
      "outputs": []
    },
    {
      "cell_type": "code",
      "source": [
        "plt.figure(figsize=(15,7))\n",
        "sns.countplot(data=India_df, y='Target_Type')\n",
        "plt.xlabel('count')\n",
        "plt.ylabel('Target Type')\n",
        "plt.title('Most common target of terror activities')\n",
        "plt.show()"
      ],
      "metadata": {
        "id": "9efKGdwxbQFm"
      },
      "execution_count": null,
      "outputs": []
    },
    {
      "cell_type": "markdown",
      "source": [
        "##### 1. Why did you pick the specific chart?"
      ],
      "metadata": {
        "id": "gCFgpxoyphqP"
      }
    },
    {
      "cell_type": "markdown",
      "source": [
        "We can do all the things what we did before for each particular country."
      ],
      "metadata": {
        "id": "TVxDimi2phqP"
      }
    },
    {
      "cell_type": "markdown",
      "source": [
        "##### 2. What is/are the insight(s) found from the chart?"
      ],
      "metadata": {
        "id": "OVtJsKN_phqQ"
      }
    },
    {
      "cell_type": "markdown",
      "source": [
        "Most terror activity in India in year: **2016**\n",
        "\n",
        "Most terror activities in city in India: **Srinagar**\n",
        "\n",
        "Most no of casualties in India: **5000**\n",
        "\n",
        "Most used weapon for terror activities in India: **Bombing and Explosion**\n",
        "\n",
        "Most active terrorist group in India: Communist **Party of India**\n",
        "\n",
        "Most common target of terror activity in India: **Private Citizens and Property**"
      ],
      "metadata": {
        "id": "ngGi97qjphqQ"
      }
    },
    {
      "cell_type": "markdown",
      "source": [
        "##### 3. Will the gained insights help creating a positive business impact?\n",
        "Are there any insights that lead to negative growth? Justify with specific reason."
      ],
      "metadata": {
        "id": "lssrdh5qphqQ"
      }
    },
    {
      "cell_type": "markdown",
      "source": [
        "This understanding can aid in the development of more effective counterterrorism strategies, resource allocation for security measures, and initiatives focused on mitigating the consequences of such attacks. Ultimately, these actions can contribute to creating a safer environment, enhancing public confidence, and fostering positive social and economic growth.\n",
        "\n",
        "**Insights that lead to negative growth-----------**\n",
        "\n",
        "Heightened security concerns, loss of lives, disruptions in business activities, and a decline in tourism and investments can adversely affect economic growth and development. Therefore, it is crucial to use these insights to implement effective counterterrorism measures and preventive actions to minimize the negative impact and promote sustainable growth.\n",
        "\n",
        "\n",
        "\n",
        "\n",
        "\n",
        "\n",
        "Regenerate response"
      ],
      "metadata": {
        "id": "tBpY5ekJphqQ"
      }
    },
    {
      "cell_type": "markdown",
      "source": [
        "#### Chart - 10"
      ],
      "metadata": {
        "id": "U2RJ9gkRphqQ"
      }
    },
    {
      "cell_type": "code",
      "source": [
        "# Chart - 10 visualization code\n",
        "\n",
        "plt.figure(figsize=(10, 10))\n",
        "country_counts = df['Country'].value_counts()\n",
        "top_countries = country_counts.head(10)\n",
        "plt.pie(top_countries, labels=top_countries.index, autopct='%1.1f%%')\n",
        "plt.title('Proportion of Terrorist Activities by Country')\n",
        "plt.show()"
      ],
      "metadata": {
        "id": "GM7a4YP4phqQ"
      },
      "execution_count": null,
      "outputs": []
    },
    {
      "cell_type": "markdown",
      "source": [
        "##### 1. Why did you pick the specific chart?"
      ],
      "metadata": {
        "id": "1M8mcRywphqQ"
      }
    },
    {
      "cell_type": "markdown",
      "source": [
        "The pie chart was chosen because it effectively shows the proportion or distribution of terrorist activities in different countries. It provides a visual representation of the relative sizes of each country's contribution to the total number of terrorist activities."
      ],
      "metadata": {
        "id": "8agQvks0phqQ"
      }
    },
    {
      "cell_type": "markdown",
      "source": [
        "##### 2. What is/are the insight(s) found from the chart?"
      ],
      "metadata": {
        "id": "tgIPom80phqQ"
      }
    },
    {
      "cell_type": "markdown",
      "source": [
        "The pie chart allows us to identify the top countries with the highest proportion of terrorist activities.\n",
        "\n",
        "It shows which countries are most affected by terrorism and provides a comparative view of their contributions.\n",
        "\n",
        "It can highlight countries that may require special attention or resources in terms of security measures, risk assessment, and mitigation strategies.\n",
        "The chart can also reveal any significant disparities in the distribution of terrorist activities among countries."
      ],
      "metadata": {
        "id": "Qp13pnNzphqQ"
      }
    },
    {
      "cell_type": "markdown",
      "source": [
        "##### 3. Will the gained insights help creating a positive business impact?\n",
        "Are there any insights that lead to negative growth? Justify with specific reason."
      ],
      "metadata": {
        "id": "JMzcOPDDphqR"
      }
    },
    {
      "cell_type": "markdown",
      "source": [
        "Enabling businesses to prioritize and allocate resources effectively based on the countries with the highest proportions of terrorist activities.\n",
        "\n",
        "Facilitating collaboration with government agencies and security organizations to address the challenges posed by terrorism in specific countries.\n",
        "\n",
        "**negative growth impacts due to the insights gained from the chart**\n",
        "\n",
        "Businesses may face limitations or increased challenges when operating in countries with a high proportion of terrorist activities. This could lead to disrupted operations, increased security costs, and restricted market expansion.\n",
        "Negative perceptions or associations with countries heavily affected by terrorism can impact consumer confidence, investor sentiment, and business partnerships, potentially resulting in reduced growth opportunities."
      ],
      "metadata": {
        "id": "R4Ka1PC2phqR"
      }
    },
    {
      "cell_type": "markdown",
      "source": [
        "#### Chart - 11"
      ],
      "metadata": {
        "id": "x-EpHcCOp1ci"
      }
    },
    {
      "cell_type": "code",
      "source": [
        "# Chart - 11 visualization code\n",
        "\n",
        "grouped_data = df.groupby(['Region', 'Attack_Type']).size().unstack()\n",
        "grouped_data['Total'] = grouped_data.sum(axis=1)\n",
        "grouped_data_percentage = grouped_data.div(grouped_data['Total'], axis=0) * 100\n",
        "plt.style.use('seaborn')\n",
        "grouped_data_percentage.plot(kind='bar', stacked=True, figsize=(10, 6))\n",
        "plt.title('Distribution of Attack Types by Region')\n",
        "plt.xlabel('Region')\n",
        "plt.ylabel('Percentage')\n",
        "plt.legend(title='Attack Type', bbox_to_anchor=(1, 1))\n",
        "plt.show()"
      ],
      "metadata": {
        "id": "PT6xPnIjhzSx"
      },
      "execution_count": null,
      "outputs": []
    },
    {
      "cell_type": "markdown",
      "source": [
        "##### 1. Why did you pick the specific chart?"
      ],
      "metadata": {
        "id": "X_VqEhTip1ck"
      }
    },
    {
      "cell_type": "markdown",
      "source": [
        "A stacked bar chart is suitable for displaying the distribution of attack types by region because it allows for easy comparison of the proportions of different attack types within each region. The stacked bars show the overall composition of attack types while preserving the individual breakdown within each region. This helps identify the dominant attack types and their relative significance across regions."
      ],
      "metadata": {
        "id": "-vsMzt_np1ck"
      }
    },
    {
      "cell_type": "markdown",
      "source": [
        "##### 2. What is/are the insight(s) found from the chart?"
      ],
      "metadata": {
        "id": "8zGJKyg5p1ck"
      }
    },
    {
      "cell_type": "markdown",
      "source": [
        "**Regional Variations:** It enables comparison of attack type distributions across different regions, highlighting variations in the prevalence of specific attack types.\n",
        "\n",
        "**Dominant Attack Types:** The chart can reveal the most common attack types within each region, indicating the types of threats prevalent in different areas.\n",
        "\n",
        "**Regional Patterns:** It may uncover patterns or trends in the distribution of attack types, which could be further analyzed and investigated."
      ],
      "metadata": {
        "id": "ZYdMsrqVp1ck"
      }
    },
    {
      "cell_type": "markdown",
      "source": [
        "##### 3. Will the gained insights help creating a positive business impact?\n",
        "Are there any insights that lead to negative growth? Justify with specific reason."
      ],
      "metadata": {
        "id": "PVzmfK_Ep1ck"
      }
    },
    {
      "cell_type": "markdown",
      "source": [
        "**Informing Security Measures:** Understanding the prevalent attack types in different regions can assist in developing targeted security strategies and measures to mitigate risks effectively.\n",
        "\n",
        "**Resource Allocation:** Insights on regional patterns can aid in allocating resources, such as security personnel or infrastructure, based on the identified threat landscape.\n",
        "\n",
        "\n",
        "**insights from the scatter plot may also indicate negative growth-----**\n",
        "\n",
        "Highly destructive attack types in certain regions, it could indicate a heightened risk environment. This could potentially result in negative growth or impact sectors such as tourism, investment, or local economies. A detailed assessment of the specific data and context would be necessary to determine negative growth implications with more certainty."
      ],
      "metadata": {
        "id": "druuKYZpp1ck"
      }
    },
    {
      "cell_type": "markdown",
      "source": [
        "#### Chart - 12"
      ],
      "metadata": {
        "id": "n3dbpmDWp1ck"
      }
    },
    {
      "cell_type": "code",
      "source": [
        "# Chart - 12 visualization code\n",
        "\n",
        "plt.figure(figsize=(12, 8))\n",
        "df['Region'].value_counts().head(10).plot(kind='pie', autopct='%1.1f%%')\n",
        "plt.title('Distribution of Terrorist Activities by Region')\n",
        "plt.ylabel('')\n",
        "plt.show()"
      ],
      "metadata": {
        "id": "bwevp1tKp1ck"
      },
      "execution_count": null,
      "outputs": []
    },
    {
      "cell_type": "markdown",
      "source": [
        "##### 1. Why did you pick the specific chart?"
      ],
      "metadata": {
        "id": "ylSl6qgtp1ck"
      }
    },
    {
      "cell_type": "markdown",
      "source": [
        "I picked the pie chart because it is an effective way to represent proportions or percentages of a whole. In this case, it allows us to visually understand the distribution of terrorist activities across different regions."
      ],
      "metadata": {
        "id": "m2xqNkiQp1ck"
      }
    },
    {
      "cell_type": "markdown",
      "source": [
        "##### 2. What is/are the insight(s) found from the chart?"
      ],
      "metadata": {
        "id": "ZWILFDl5p1ck"
      }
    },
    {
      "cell_type": "markdown",
      "source": [
        "The pie chart provides a clear visualization of the relative distribution of terrorist activities among the top 10 regions.\n",
        "\n",
        "It helps identify the regions with the highest and lowest proportions of terrorist activities.\n",
        "\n",
        "It allows for a quick comparison of the contribution of each region to the overall terrorist activities.\n",
        "\n",
        "max terrorist attack in region: **Middle East & North Africa**"
      ],
      "metadata": {
        "id": "x-lUsV2mp1ck"
      }
    },
    {
      "cell_type": "markdown",
      "source": [
        "##### 3. Will the gained insights help creating a positive business impact?\n",
        "Are there any insights that lead to negative growth? Justify with specific reason."
      ],
      "metadata": {
        "id": "M7G43BXep1ck"
      }
    },
    {
      "cell_type": "markdown",
      "source": [
        "Business operations can be tailored to address the specific risks and challenges associated with regions experiencing higher terrorist activities.\n",
        "\n",
        "Security measures can be enhanced in regions where the threat of terrorism is more prevalent.\n",
        "\n",
        "**Insights that may lead to negative growth:**\n",
        "\n",
        "If the pie chart reveals a significant concentration of terrorist activities in specific regions, it may raise concerns among potential investors, customers, and partners. This can result in negative perceptions and reluctance to engage in business activities in those regions.\n"
      ],
      "metadata": {
        "id": "5wwDJXsLp1cl"
      }
    },
    {
      "cell_type": "markdown",
      "source": [
        "#### Chart - 13"
      ],
      "metadata": {
        "id": "Ag9LCva-p1cl"
      }
    },
    {
      "cell_type": "code",
      "source": [
        "# Chart - 13 visualization code\n",
        "\n",
        "plt.figure(figsize=(12, 8))\n",
        "df['Attack_Type'].value_counts().head(7).plot(kind='pie', autopct='%1.1f%%')\n",
        "plt.title('Top 7 Terrorist Attack Types')\n",
        "plt.ylabel('')\n",
        "plt.show()"
      ],
      "metadata": {
        "id": "EUfxeq9-p1cl"
      },
      "execution_count": null,
      "outputs": []
    },
    {
      "cell_type": "markdown",
      "source": [
        "##### 1. Why did you pick the specific chart?"
      ],
      "metadata": {
        "id": "E6MkPsBcp1cl"
      }
    },
    {
      "cell_type": "markdown",
      "source": [
        "I picked a pie chart to represent the distribution of terrorist attack types. A pie chart is suitable for showing the proportion or percentage of each attack type in relation to the total.\n"
      ],
      "metadata": {
        "id": "V22bRsFWp1cl"
      }
    },
    {
      "cell_type": "markdown",
      "source": [
        "##### 2. What is/are the insight(s) found from the chart?"
      ],
      "metadata": {
        "id": "2cELzS2fp1cl"
      }
    },
    {
      "cell_type": "markdown",
      "source": [
        "we can observe the distribution of the top 7 terrorist attack types. The insights gained include the relative frequency or occurrence of each attack type. This information can help in understanding the dominant attack types and their significance in the overall landscape of terrorist activities.\n",
        "\n",
        "Most used attack type: **Bombing/Explosion**"
      ],
      "metadata": {
        "id": "ozQPc2_Ip1cl"
      }
    },
    {
      "cell_type": "markdown",
      "source": [
        "##### 3. Will the gained insights help creating a positive business impact?\n",
        "Are there any insights that lead to negative growth? Justify with specific reason."
      ],
      "metadata": {
        "id": "3MPXvC8up1cl"
      }
    },
    {
      "cell_type": "markdown",
      "source": [
        "The gained insights can potentially create a positive business impact by informing decision-making related to security measures, risk assessments, and resource allocation. Businesses can tailor their security strategies, develop contingency plans, and allocate resources effectively based on the identified attack types.\n",
        "\n",
        "\n",
        "**some insights that lead to negative growth-------**\n",
        "\n",
        " For example, if a particular attack type has a significantly higher occurrence rate, it may indicate a higher level of risk or instability in certain regions or industries. This can lead to negative growth if businesses operating in those areas or industries are perceived as high-risk and face challenges such as reduced investments, decreased consumer confidence, and disruptions to operations."
      ],
      "metadata": {
        "id": "GL8l1tdLp1cl"
      }
    },
    {
      "cell_type": "markdown",
      "source": [
        "#### Chart - 14 - Correlation Heatmap"
      ],
      "metadata": {
        "id": "NC_X3p0fY2L0"
      }
    },
    {
      "cell_type": "code",
      "source": [
        "# Correlation Heatmap visualization code\n",
        "\n",
        "plt.figure(figsize=(10,10))\n",
        "sns.heatmap(data= df.corr(), annot= True, cmap= 'coolwarm')\n",
        "plt.xlabel('Features')\n",
        "plt.ylabel('Features')\n",
        "plt.title('Correlation between different features')\n",
        "plt.show()"
      ],
      "metadata": {
        "id": "xyC9zolEZNRQ"
      },
      "execution_count": null,
      "outputs": []
    },
    {
      "cell_type": "markdown",
      "source": [
        "##### 1. Why did you pick the specific chart?"
      ],
      "metadata": {
        "id": "UV0SzAkaZNRQ"
      }
    },
    {
      "cell_type": "markdown",
      "source": [
        "The selected heatmap chart is suitable for visualizing the correlation matrix as it allows us to identify patterns and trends in the data. By examining the color-coded correlation coefficients, we can gain insights into the strength and direction of relationships between variables."
      ],
      "metadata": {
        "id": "DVPuT8LYZNRQ"
      }
    },
    {
      "cell_type": "markdown",
      "source": [
        "##### 2. What is/are the insight(s) found from the chart?"
      ],
      "metadata": {
        "id": "YPEH6qLeZNRQ"
      }
    },
    {
      "cell_type": "markdown",
      "source": [
        "Insights from the correlation matrix heatmap can be used to understand how different variables are related to each other. For example, positive correlations between 'Killed' and 'Casualties' indicate that higher numbers of killed individuals are associated with higher casualty counts. Similarly, positive correlations between 'Injured' and 'Casualties' suggest that higher numbers of injured individuals are also associated with higher casualty counts."
      ],
      "metadata": {
        "id": "bfSqtnDqZNRR"
      }
    },
    {
      "cell_type": "markdown",
      "source": [
        "#### Chart - 15 - Pair Plot"
      ],
      "metadata": {
        "id": "q29F0dvdveiT"
      }
    },
    {
      "cell_type": "code",
      "source": [
        "# Pair Plot visualization code\n",
        "\n",
        "sns.pairplot(data= df.head(5))\n",
        "plt.xlabel('Features')\n",
        "plt.ylabel('Features')\n",
        "plt.title('Correlation between different features')\n",
        "plt.show()"
      ],
      "metadata": {
        "id": "o58-TEIhveiU"
      },
      "execution_count": null,
      "outputs": []
    },
    {
      "cell_type": "markdown",
      "source": [
        "##### 1. Why did you pick the specific chart?"
      ],
      "metadata": {
        "id": "EXh0U9oCveiU"
      }
    },
    {
      "cell_type": "markdown",
      "source": [
        "I picked the pair plot because it allows us to visualize the relationships and distributions between multiple variables in the dataset. By plotting each variable against every other variable, we can gain insights into the correlations, patterns, and distributions among the variables."
      ],
      "metadata": {
        "id": "eMmPjTByveiU"
      }
    },
    {
      "cell_type": "markdown",
      "source": [
        "##### 2. What is/are the insight(s) found from the chart?"
      ],
      "metadata": {
        "id": "22aHeOlLveiV"
      }
    },
    {
      "cell_type": "markdown",
      "source": [
        "Correlations: We can identify the strength and direction of correlations between different variables. For example, we can see if there is a positive or negative correlation between the number of casualties and the number of people killed in terrorist attacks.\n",
        "\n",
        "Distributions: We can examine the distribution of each variable and identify any patterns or outliers. This helps us understand the range and spread of values for each variable.\n",
        "\n",
        "Variable relationships: We can observe how different variables interact with each other. For example, we can see if there is a relationship between the type of attack and the success of the attack.\n",
        "\n",
        "Outliers: We can identify any outliers or unusual observations in the dataset that may require further investigation."
      ],
      "metadata": {
        "id": "uPQ8RGwHveiV"
      }
    },
    {
      "cell_type": "markdown",
      "source": [
        "## **5. Solution to Business Objective**"
      ],
      "metadata": {
        "id": "JcMwzZxoAimU"
      }
    },
    {
      "cell_type": "markdown",
      "source": [
        "#### What do you suggest the client to achieve Business Objective ?\n",
        "Explain Briefly."
      ],
      "metadata": {
        "id": "8G2x9gOozGDZ"
      }
    },
    {
      "cell_type": "markdown",
      "source": [
        "Based on the exploratory data analysis conducted on the Global Terrorism Dataset, there are several recommendations that coould be provided to a client inetersted in using this information to decrease the impact of terrorism and thereby meet the stated business objective.\n",
        "\n",
        "**Focus on Hotspot Regions:** The regions with the highest frequencies of terrorist activities should be prioritized for intervention efforts. These regions may need more robust security measures, targeted socio-economic programs to address root causes of terrorism, or more substantial international assistance.\n",
        "\n",
        "**Understand Yearly Trends:** Keeping track of the rise or fall of terrorist incidents over the years could help forecast potential future threats and adjust counter terrorism strategies accordingly.\n",
        "\n",
        "**Prioritize Major Threat Groups:** Our analysis shows that certain terrorist groups are more active than others. Intelligence efforts should be concentrated on these high impact groups to prevent future attacks.\n",
        "\n",
        "**Target Most common Attack Types:** Understanding the most common types of attacks used by terrorists can help in developing preventive measures and response strategies. For instance if bombings are the most common attack type, more resources could be directed towards bomb deection and disposal."
      ],
      "metadata": {
        "id": "pASKb0qOza21"
      }
    },
    {
      "cell_type": "markdown",
      "source": [
        "# **Conclusion**"
      ],
      "metadata": {
        "id": "gCX9965dhzqZ"
      }
    },
    {
      "cell_type": "markdown",
      "source": [
        "The Explortory Data Analysis (EDA) conducted on the Global Terrorism Dataset provided significant insights into trends and patterns in global terrorism from 1970 through 2017. With the help of the Python libraries like Pandas, Matplotlib, Seaborn and Numpy, we were able to handle, visualize and interpret complete data related to terrorist activities.\n",
        "\n",
        "Through this analysis, we identified trends over time, regional hotspots, dominant terrorist groups and preferred modes of attacks. All these findings are crucial for devising effective counter terrorism strategies and interventions.\n",
        "\n",
        "The process underscored the power of data-driven decision-making. By using EDA, we were able to transform raw data into meaningful insights. For instance, understanding that certain regions are more prone to terrorist attacks or that specific terrorist groups are more active allows security agencies and policymakers to allocate resources more efficiently, thereby potentially saving lives and property.\n",
        "\n",
        "However, while this data analysis provides a robust foundation, it's important to acknowldedge that addressing terrorism requires more than just understanding past data. It necessitates a comprehensive approach that includes current intelligence, geopolitical considerations, and on the ground realities.\n",
        "\n",
        "To conclude, this project demonstrates the potential of data analysis in informing and shaping counter-terrorism efforts. It provides a useful starting point for further study and action, emphasizing the importance of continous data collection, analysis, and interpretation in tackling global security challenges like terrorism."
      ],
      "metadata": {
        "id": "Fjb1IsQkh3yE"
      }
    },
    {
      "cell_type": "markdown",
      "source": [
        "### ***Hurrah! You have successfully completed your EDA Capstone Project !!!***"
      ],
      "metadata": {
        "id": "gIfDvo9L0UH2"
      }
    }
  ]
}